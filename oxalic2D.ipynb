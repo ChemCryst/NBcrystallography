{
 "cells": [
  {
   "cell_type": "code",
   "execution_count": 152,
   "metadata": {},
   "outputs": [
    {
     "name": "stdout",
     "output_type": "stream",
     "text": [
      "There are 88 data\n"
     ]
    }
   ],
   "source": [
    "import csv, math\n",
    "\n",
    "data=[]\n",
    "\n",
    "csv.register_dialect('skip_space', skipinitialspace=True)\n",
    "with open('data/hk0.dat', 'r') as f:\n",
    "      reader=csv.reader(f , delimiter=' ', dialect='skip_space')\n",
    "      for item in reader:\n",
    "        phase = float(item[7]) / np.pi  # divide by pi\n",
    "        phase = int(np.round(phase)) # nearest int\n",
    "        phase = phase % 2  # make 1 or 0\n",
    "        phase = phase / 2  # make 0.5 or 0\n",
    "        hkstr = \"%d %d\"%(int(item[0]), int(item[1]))\n",
    "        d = [ int(item[0]), int(item[1]), float(item[5]), phase, phase, hkstr ] #store twice (last keeps original value)\n",
    "        if ( d[0] < 10 and d[1] < 10 ):\n",
    "            data.append( d )\n",
    "            \n",
    "print(\"There are %d data\" % len(data))\n",
    "                    \n",
    "from ipywidgets import interactive\n",
    "import ipywidgets as widgets\n",
    "import matplotlib.pyplot as plt\n",
    "import numpy as np\n",
    "\n"
   ]
  },
  {
   "cell_type": "code",
   "execution_count": 159,
   "metadata": {
    "scrolled": false
   },
   "outputs": [
    {
     "data": {
      "application/vnd.jupyter.widget-view+json": {
       "model_id": "fad313a6fe6a444991437fd45eccaa23",
       "version_major": 2,
       "version_minor": 0
      },
      "text/plain": [
       "HBox(children=(ToggleButton(value=False, description='2 0', tooltip='Set 2 0 phase 0 or 180'), ToggleButton(va…"
      ]
     },
     "metadata": {},
     "output_type": "display_data"
    },
    {
     "data": {
      "application/vnd.jupyter.widget-view+json": {
       "model_id": "d7d55bf84c1b4c7a81361a6c1ef20e53",
       "version_major": 2,
       "version_minor": 0
      },
      "text/plain": [
       "HBox(children=(ToggleButton(value=False, description='1 1', tooltip='Set 1 1 phase 0 or 180'), ToggleButton(va…"
      ]
     },
     "metadata": {},
     "output_type": "display_data"
    },
    {
     "data": {
      "application/vnd.jupyter.widget-view+json": {
       "model_id": "a3d3aa3d4dc948c88e592b50408584ed",
       "version_major": 2,
       "version_minor": 0
      },
      "text/plain": [
       "HBox(children=(ToggleButton(value=True, description='1 2', tooltip='Set 1 2 phase 0 or 180'), ToggleButton(val…"
      ]
     },
     "metadata": {},
     "output_type": "display_data"
    },
    {
     "data": {
      "application/vnd.jupyter.widget-view+json": {
       "model_id": "bb1b82067edd48cbb2344fb716e807ea",
       "version_major": 2,
       "version_minor": 0
      },
      "text/plain": [
       "HBox(children=(ToggleButton(value=True, description='1 3', tooltip='Set 1 3 phase 0 or 180'), ToggleButton(val…"
      ]
     },
     "metadata": {},
     "output_type": "display_data"
    },
    {
     "data": {
      "application/vnd.jupyter.widget-view+json": {
       "model_id": "17968602abe44f76a08160d5c8f90305",
       "version_major": 2,
       "version_minor": 0
      },
      "text/plain": [
       "HBox(children=(ToggleButton(value=False, description='0 4', tooltip='Set 0 4 phase 0 or 180'), ToggleButton(va…"
      ]
     },
     "metadata": {},
     "output_type": "display_data"
    },
    {
     "data": {
      "application/vnd.jupyter.widget-view+json": {
       "model_id": "28ad0842059b41c19dc312144f712eaf",
       "version_major": 2,
       "version_minor": 0
      },
      "text/plain": [
       "HBox(children=(ToggleButton(value=True, description='1 5', tooltip='Set 1 5 phase 0 or 180'), ToggleButton(val…"
      ]
     },
     "metadata": {},
     "output_type": "display_data"
    },
    {
     "data": {
      "application/vnd.jupyter.widget-view+json": {
       "model_id": "5226a6b4cfe348ddbf2d7c60b96591c4",
       "version_major": 2,
       "version_minor": 0
      },
      "text/plain": [
       "HBox(children=(ToggleButton(value=False, description='0 6', tooltip='Set 0 6 phase 0 or 180'), ToggleButton(va…"
      ]
     },
     "metadata": {},
     "output_type": "display_data"
    },
    {
     "data": {
      "application/vnd.jupyter.widget-view+json": {
       "model_id": "3315c74aa6dd4da7af294c517a56674e",
       "version_major": 2,
       "version_minor": 0
      },
      "text/plain": [
       "HBox(children=(ToggleButton(value=False, description='1 7', tooltip='Set 1 7 phase 0 or 180'), ToggleButton(va…"
      ]
     },
     "metadata": {},
     "output_type": "display_data"
    },
    {
     "data": {
      "application/vnd.jupyter.widget-view+json": {
       "model_id": "2b24c26703fb4230b21a6c17879a80e5",
       "version_major": 2,
       "version_minor": 0
      },
      "text/plain": [
       "HBox(children=(ToggleButton(value=False, description='0 8', tooltip='Set 0 8 phase 0 or 180'), ToggleButton(va…"
      ]
     },
     "metadata": {},
     "output_type": "display_data"
    },
    {
     "data": {
      "image/png": "[encoded data removed]",
      "text/plain": [
       "<Figure size 578.88x743.04 with 1 Axes>"
      ]
     },
     "metadata": {
      "needs_background": "light"
     },
     "output_type": "display_data"
    }
   ],
   "source": [
    "xc = np.linspace(0, 1, num=30)\n",
    "yc = np.linspace(0, 1, num=30)\n",
    "xx, yy = np.meshgrid(xc, yc)\n",
    "fig,ax = plt.subplots(1,1)\n",
    "plt.rcParams[\"figure.figsize\"] = (8.04,10.32) # These are the cell lengths in Angstroms - keep this ration constant.\n",
    "\n",
    "\n",
    "def doplot():\n",
    "    zz = np.sin(0* xx + 0 * yy) + 0 # init empty\n",
    "\n",
    "\n",
    "    for d in data:\n",
    "    # A note on the symmetry here. P21212 has four symmetry operations, and\n",
    "    # our data set is symmetry unique. We generate the other three index combinations\n",
    "    # using two two-fold screw operations and one two fold rotation. The screw operations\n",
    "    # have a translational component which is the source of the 0.5's in the\n",
    "    # third and fourth line.\n",
    "        zz += d[2] * np.cos( 2 * np.pi * ( d[0] * xx + d[1] * yy  + d[3] ) ) \n",
    "        zz += d[2] * np.cos( 2 * np.pi * ( -d[0] * xx - d[1] * yy + d[3] ) ) \n",
    "        zz += d[2] * np.cos( 2 * np.pi * ( -d[0] * ( xx + 0.5 ) + d[1] * ( yy + 0.5 ) + d[3]  )) \n",
    "        zz += d[2] * np.cos( 2 * np.pi * ( d[0] * ( xx + 0.5 ) - d[1] * ( yy + 0.5 ) + d[3] ) ) \n",
    "\n",
    "\n",
    "    h = ax.contourf(xx,yy,zz)\n",
    "\n",
    "    fig.canvas.draw()\n",
    "    \n",
    "\n",
    "def on_button_clicked(c):\n",
    "        print(\"Button clicked.\", c)\n",
    "        if c['name'] == 'value':\n",
    "            dl = [x for x in data if x[5] == c['owner'].description]\n",
    "            if ( len(dl) > 0 ):\n",
    "                dl[0][3] = 0.5 if c['new'] else 0\n",
    "            doplot()\n",
    "\n",
    "\n",
    "\n",
    "doplot()\n",
    "        \n",
    "b=[]\n",
    "cur = data[0][1]\n",
    "for d in data:\n",
    "    if ( cur != d[1] ):\n",
    "        display (widgets.HBox([x for x in b]))\n",
    "        b = []\n",
    "        cur = d[1]\n",
    "\n",
    "    btn = widgets.ToggleButton(\n",
    "        value=d[4]>0.25,\n",
    "        description=\"%d %d\"%(d[0],d[1]),\n",
    "        disabled=False,\n",
    "        button_style='', # 'success', 'info', 'warning', 'danger' or ''\n",
    "        tooltip=\"Set %d %d phase 0 or 180\"%(d[0],d[1]),\n",
    "        icon='' # (FontAwesome names without the `fa-` prefix)\n",
    "    )\n",
    "    btn.observe(on_button_clicked)\n",
    "    b.append( btn )\n",
    "\n",
    "if ( cur != d[1] ):\n",
    "    display (widgets.HBox([x for x in b]))\n",
    "\n"
   ]
  },
  {
   "cell_type": "code",
   "execution_count": null,
   "metadata": {},
   "outputs": [],
   "source": []
  }
 ],
 "metadata": {
  "kernelspec": {
   "display_name": "Python 3",
   "language": "python",
   "name": "python3"
  },
  "language_info": {
   "codemirror_mode": {
    "name": "ipython",
    "version": 3
   },
   "file_extension": ".py",
   "mimetype": "text/x-python",
   "name": "python",
   "nbconvert_exporter": "python",
   "pygments_lexer": "ipython3",
   "version": "3.7.6"
  }
 },
 "nbformat": 4,
 "nbformat_minor": 4
}
