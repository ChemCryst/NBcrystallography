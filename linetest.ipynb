{
 "cells": [
  {
   "cell_type": "markdown",
   "metadata": {},
   "source": [
    "**This is a test of interactive plots on nbviewer**\n",
    "\n",
    "It works fine in a Jupyter notebook. \n",
    "Example is from https://ipywidgets.readthedocs.io/en/latest/examples/Using%20Interact.html"
   ]
  },
  {
   "cell_type": "code",
   "execution_count": 2,
   "metadata": {},
   "outputs": [
    {
     "data": {
      "application/vnd.jupyter.widget-view+json": {
       "model_id": "87fe4c3218f048159504b4817c4b554f",
       "version_major": 2,
       "version_minor": 0
      },
      "text/plain": [
       "interactive(children=(FloatSlider(value=0.0, description='m', max=2.0, min=-2.0), FloatSlider(value=0.0, descr…"
      ]
     },
     "metadata": {},
     "output_type": "display_data"
    }
   ],
   "source": [
    "%matplotlib inline\n",
    "from ipywidgets import interactive\n",
    "import matplotlib.pyplot as plt\n",
    "import numpy as np\n",
    "\n",
    "def slope(m, c):\n",
    "    plt.figure()\n",
    "    x = np.linspace(-1, 1, num=2)\n",
    "    plt.plot(x, m * x + c)\n",
    "    plt.ylim(-1, 1)\n",
    "    plt.show()\n",
    "\n",
    "interactive_plot = interactive(slope, m=(-2.0, 2.0, 0.1), c=(-3, 3, 0.1))\n",
    "output = interactive_plot.children[-1]\n",
    "output.layout.height = '350px'\n",
    "interactive_plot"
   ]
  },
  {
   "cell_type": "code",
   "execution_count": null,
   "metadata": {},
   "outputs": [],
   "source": []
  }
 ],
 "metadata": {
  "kernelspec": {
   "display_name": "Python 3",
   "language": "python",
   "name": "python3"
  },
  "language_info": {
   "codemirror_mode": {
    "name": "ipython",
    "version": 3
   },
   "file_extension": ".py",
   "mimetype": "text/x-python",
   "name": "python",
   "nbconvert_exporter": "python",
   "pygments_lexer": "ipython3",
   "version": "3.7.6"
  },
  "widgets": {
   "application/vnd.jupyter.widget-state+json": {
    "state": {
     "03fd9bb7eb49434e8992333cc72561b3": {
      "model_module": "@jupyter-widgets/controls",
      "model_module_version": "1.5.0",
      "model_name": "VBoxModel",
      "state": {
       "_dom_classes": [
        "widget-interact"
       ],
       "children": [
        "IPY_MODEL_654dfb31a5004de085ffa6203b8e1c57",
        "IPY_MODEL_4de1b8e084804f11b6caac75c61ec465",
        "IPY_MODEL_81d61d5ea1734bea9f7145b434bae760"
       ],
       "layout": "IPY_MODEL_a2dff37e2cf14a51ba961ff3d71d0990"
      }
     },
     "06cb95f740e544d0a95726a6c58637b1": {
      "model_module": "@jupyter-widgets/controls",
      "model_module_version": "1.5.0",
      "model_name": "SliderStyleModel",
      "state": {
       "description_width": ""
      }
     },
     "0781409849174ad4b03e34da91c84124": {
      "model_module": "@jupyter-widgets/controls",
      "model_module_version": "1.5.0",
      "model_name": "FloatSliderModel",
      "state": {
       "description": "m",
       "layout": "IPY_MODEL_fef18a98580046b8a7c50aef8febea00",
       "max": 2,
       "min": -2,
       "step": 0.1,
       "style": "IPY_MODEL_ed5be06b48ba4cdfbd645fd9fb9fe659",
       "value": -0.5
      }
     },
     "088489dc558b4e44a99ddab58cd039c7": {
      "model_module": "@jupyter-widgets/base",
      "model_module_version": "1.2.0",
      "model_name": "LayoutModel",
      "state": {}
     },
     "0bb85d67084b41bc96f5e19419232abe": {
      "model_module": "@jupyter-widgets/base",
      "model_module_version": "1.2.0",
      "model_name": "LayoutModel",
      "state": {}
     },
     "0cc1c28347804172b8f7b7952fe1c398": {
      "model_module": "@jupyter-widgets/base",
      "model_module_version": "1.2.0",
      "model_name": "LayoutModel",
      "state": {}
     },
     "0f6b8d562abe440fa8a0a5fdcc32cc54": {
      "model_module": "@jupyter-widgets/controls",
      "model_module_version": "1.5.0",
      "model_name": "FloatSliderModel",
      "state": {
       "description": "c",
       "layout": "IPY_MODEL_0bb85d67084b41bc96f5e19419232abe",
       "max": 3,
       "min": -3,
       "step": 0.1,
       "style": "IPY_MODEL_17f89b68aa654f7b950c2db57b6e12a7",
       "value": -1.1
      }
     },
     "0fbb9c30a7fd4dff84d42b71d7154ab2": {
      "model_module": "@jupyter-widgets/controls",
      "model_module_version": "1.5.0",
      "model_name": "SliderStyleModel",
      "state": {
       "description_width": ""
      }
     },
     "12e6806abd0644c3946f864b0deb5744": {
      "model_module": "@jupyter-widgets/base",
      "model_module_version": "1.2.0",
      "model_name": "LayoutModel",
      "state": {}
     },
     "13152598f4ad4a5495b0de120a1f89e6": {
      "model_module": "@jupyter-widgets/controls",
      "model_module_version": "1.5.0",
      "model_name": "SliderStyleModel",
      "state": {
       "description_width": ""
      }
     },
     "17f89b68aa654f7b950c2db57b6e12a7": {
      "model_module": "@jupyter-widgets/controls",
      "model_module_version": "1.5.0",
      "model_name": "SliderStyleModel",
      "state": {
       "description_width": ""
      }
     },
     "1b8bd00469bd46f09ae132da1d499b7d": {
      "model_module": "@jupyter-widgets/base",
      "model_module_version": "1.2.0",
      "model_name": "LayoutModel",
      "state": {}
     },
     "1c9b6bb350f748b0bff60db898610f73": {
      "model_module": "@jupyter-widgets/base",
      "model_module_version": "1.2.0",
      "model_name": "LayoutModel",
      "state": {
       "height": "350px"
      }
     },
     "1d52f52581ea4cf08e8fc06b7a6a1436": {
      "model_module": "@jupyter-widgets/output",
      "model_module_version": "1.0.0",
      "model_name": "OutputModel",
      "state": {
       "layout": "IPY_MODEL_7e5017d602d9447fa66bec33e8afd602",
       "outputs": [
        {
         "data": {
          "image/png": "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\n",
          "text/plain": "<Figure size 432x288 with 1 Axes>"
         },
         "metadata": {
          "needs_background": "light"
         },
         "output_type": "display_data"
        }
       ]
      }
     },
     "1e7517ba2f3f4b05a2c3efc8f850d0ce": {
      "model_module": "@jupyter-widgets/controls",
      "model_module_version": "1.5.0",
      "model_name": "SliderStyleModel",
      "state": {
       "description_width": ""
      }
     },
     "2112fd9db2924964ab8ac4b2540167d5": {
      "model_module": "@jupyter-widgets/base",
      "model_module_version": "1.2.0",
      "model_name": "LayoutModel",
      "state": {}
     },
     "2255a045055c48b9b4ef3c9023aa7338": {
      "model_module": "@jupyter-widgets/base",
      "model_module_version": "1.2.0",
      "model_name": "LayoutModel",
      "state": {}
     },
     "25d29702ccd24db4b168c627befcc141": {
      "model_module": "@jupyter-widgets/output",
      "model_module_version": "1.0.0",
      "model_name": "OutputModel",
      "state": {
       "layout": "IPY_MODEL_76bbd28314724ace96f90204f2daf4d3",
       "outputs": [
        {
         "data": {
          "image/png": "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\n",
          "text/plain": "<Figure size 432x288 with 1 Axes>"
         },
         "metadata": {
          "needs_background": "light"
         },
         "output_type": "display_data"
        }
       ]
      }
     },
     "263cb42a01cb43cb9eebc6d83130ed9a": {
      "model_module": "@jupyter-widgets/base",
      "model_module_version": "1.2.0",
      "model_name": "LayoutModel",
      "state": {}
     },
     "27a8445eb09a443197881bb63bc1c328": {
      "model_module": "@jupyter-widgets/base",
      "model_module_version": "1.2.0",
      "model_name": "LayoutModel",
      "state": {}
     },
     "2bf69ee392d4437aba9b1d89f63ed599": {
      "model_module": "@jupyter-widgets/base",
      "model_module_version": "1.2.0",
      "model_name": "LayoutModel",
      "state": {}
     },
     "2e9a5c81d29846debd090ca7c747c8f7": {
      "model_module": "@jupyter-widgets/controls",
      "model_module_version": "1.5.0",
      "model_name": "VBoxModel",
      "state": {
       "_dom_classes": [
        "widget-interact"
       ],
       "children": [
        "IPY_MODEL_6cc31e461a7049b2b166a75bccc49be6",
        "IPY_MODEL_4663b5aa6f274dabab6ae3dd8bbbe605",
        "IPY_MODEL_42c115baf3044f519383985ebd3f8213"
       ],
       "layout": "IPY_MODEL_5868416d8d4e4539a8c7780603bb301c"
      }
     },
     "2eef562a9b7b4b1f87642acef6662aa6": {
      "model_module": "@jupyter-widgets/base",
      "model_module_version": "1.2.0",
      "model_name": "LayoutModel",
      "state": {}
     },
     "31c87d68c89f4ccba55585d556206748": {
      "model_module": "@jupyter-widgets/controls",
      "model_module_version": "1.5.0",
      "model_name": "FloatSliderModel",
      "state": {
       "description": "m",
       "layout": "IPY_MODEL_2112fd9db2924964ab8ac4b2540167d5",
       "max": 2,
       "min": -2,
       "step": 0.01,
       "style": "IPY_MODEL_934f7244f04f408baa4e6137966adcef",
       "value": 0.23
      }
     },
     "32d5de89062f466081321b7dd261751a": {
      "model_module": "@jupyter-widgets/output",
      "model_module_version": "1.0.0",
      "model_name": "OutputModel",
      "state": {
       "layout": "IPY_MODEL_36cbafaec24040b591f9b08e7533810b",
       "outputs": [
        {
         "data": {
          "image/png": "iVBORw0KGgoAAAANSUhEUgAAAXIAAAD4CAYAAADxeG0DAAAABHNCSVQICAgIfAhkiAAAAAlwSFlzAAALEgAACxIB0t1+/AAAADh0RVh0U29mdHdhcmUAbWF0cGxvdGxpYiB2ZXJzaW9uMy4xLjMsIGh0dHA6Ly9tYXRwbG90bGliLm9yZy+AADFEAAAbkUlEQVR4nO3daXRb553f8e+fu0hRlLgC1kYtFEWKiGObkWMrtizJkkU4dpI2neM0k3HjdBxPk8lykknscTrNdN40nTad6em0qZvJ6ZbTpO3MdHJiQIvXJE68SN4AitotWwvARZRIihQ34OkLwDHDkBYpggQv+fucwyPw3gf3/vHcyx8fXFzqMeccIiLiXTnZLkBERGZGQS4i4nEKchERj1OQi4h4nIJcRMTj8rKx08rKSldbW5uNXYuIeNbhw4e7nHNV45dnJchra2s5dOhQNnYtIuJZZvb2RMt1aUVExOMU5CIiHqcgFxHxOAW5iIjHKchFRDxOQS4i4nEKchERj1OQi4h4nIJcRMTjFOQiIh6nIBcR8TgFuYiIxynIRUQ8TkEuIuJxCnIREY9TkIuIeJyCXETE4zIW5GaWa2avmdlPM7VNERG5tkyOyL8MtGVweyIiMgUZCXIzWwXcC3w/E9sTEZGpy9SI/C+AbwDJyRqY2cNmdsjMDnV2dmZotyIiMuMgN7OPAh3OucPv184594Rzrtk511xVVTXT3YqISFomRuTbgPvN7AzwI2Cnmf3PDGxXRESmYMZB7px7zDm3yjlXCzwAPOOc+90ZVyYiIlOi+8hFRDwuL5Mbc849BzyXyW2KiMj704hcRMTjFOQiIh6nIBcR8TgFuYiIxynIRUQ8TkEuIuJxCnIREY9TkIuIeJyCXETE4xTkIiIepyAXEfE4BbmIiMcpyEVEPE5BLiLicQpyERGPU5CLiHicglxExOMU5CIiHqcgFxHxOAW5iIjHKchFRDxOQS4i4nEKchERj1OQi4h4nIJcRMTjFOQiIh6nIBcR8TgFuYiIxynIRUQ8TkEuIuJxCnIREY9TkIuIeJyCXETE4xTkIiIeN+MgN7PVZvasmbWZWauZfTkThYmIyNTkZWAbo8DXnHOvmlkpcNjMDjrnjmRg2yIicg0zHpE752LOuVfTj/uANmDlTLcrIiJTk9Fr5GZWC9wEvJTJ7YqIyOQyFuRmthT4G+ArzrneCdY/bGaHzOxQZ2dnpnYrIrLoZSTIzSyfVIj/0Dn3txO1cc494Zxrds41V1VVZWK3IiJCZu5aMeCvgTbn3HdnXpKIyMLknMM5l/HtZmJEvg34DLDTzF5PfwUzsF0REc9zztF6oYd/s/8Yu777PMfa+zK+jxnffuic+wVgGahFRGRBcM4RPd9LKBojHIlx5uIAOQYfXl/B4Egy4/vLxH3kIiKLnnOO189eJhyNE4rEOHfpKrk5xu0bKvj89g3saayhYmnhrOxbQS4icp2SScdrZy/x5Jtx9kVjXOgZJD/X+MjGSr60q47dDTWsKCmY9ToU5CIi05BIOg6d6SYcjROOxmjvHaIgN4c7N1XytT313N1YQ9mS/DmtSUEuInINo4kkL7/VTSgaY1+0na4rQxTm5XBXfRXBgJ+dm6spLZrb8B5LQS4iMoGRRJIXT18kFIlzoDXOxf5hluTnsnNzNS0BHzvqqykpnB8ROj+qEBGZB4ZHk7xwqotwJMaBI+1cHhihpCCXnQ01BJt8bK+vorhg/sXm/KtIRGQODY0m+MWJLkKROAePxOkdHKW0MI+7G2toafJx56YqivJzs13m+1KQi8iiMziS4PnjnYQjMZ5u66BvaJRlRXnsbvRx7wd8bNtYSWHe/A7vsRTkIrIoXB1O8NyxDp6MxHjmaAcDwwmWF+cTDPhpCfi4fUMlBXnenDRNQS4iC1b/0CjPHO0gHI3x7NFOro4kqCgp4OM3rSTY5OfW9eXk53ozvMdSkIvIgtI3OMLTbR2EIjGeP97J0GiSqtJCPnnLKloCPrbWlpO3AMJ7LAW5iHhez9URnjrSTjga42fHuxhOJPEtK+JTW9cQDPi5Ze0KcnMW7n8JpSAXEU+61D/MwSPthKIxXjjZxUjCcUNZEZ+5bS3BgJ+bVi8nZwGH91gKchHxjItXhjhwpJ1QJMYvT10kkXSsLl/CQ9vW0RLwc+OqMlJTJCwuCnIRmdc6+gbZ39pOOBLjxdMXSTqorSjm83euJxjws+WGZYsyvMdSkIvIvBPvGWRfNEYoGueVM904B+urSvjCjo20NPlp8Jcu+vAeS0EuIvPChctXU/+jYCTGobcvAbCpZilf3lVHMOCnrnqpwnsSCnIRyZqz3QOEozFCkTivn70MQIN/GV/bvYmWgI+N1aVZrtAbFOQiMqfOdPWnp0CLEznfA0BgZRnf2FtPS5OfdZUlWa7QexTkIjLrTnVeIRxJjbyPxHoBuHH1ch5r2Uww4Gd1eXGWK/Q2BbmIzIrj7X2EIqmR97szx9+ydgXfureBvU0+Vq1QeGeKglxEMsI5x9F4X2rkHY1zsuMKZvCh2nK+fV8je5v8+MqKsl3mgqQgF5Hr5pyj9UJvauQdjfNWVz85Breuq+DB29ZyzxYf1csU3rNNQS4i0+Kc481zPYQiMULRGGe7r5KbY9y+oYLfv2M9e7bUULm0MNtlLioKchG5pmTS8drZy4TTI+/zl6+Sl2Ns21jJH+6oY3djDStKCrJd5qKlIBeRCSWSjsNvXyIUibEvGifeO0hBbg531FXy1d2b2N1QQ1lx9maOl/coyEXk1xJJx8tvdROOpkbenX1DFOTlcNemKh4NbGZnQzXLihTe842CXGSRG00kefF0N6FojAOtcbquDFOUn8OO+mpaAn52bq5maaGiYj7T0RFZhEYSSV442UU4EufAkTiXBkYoLshl5+ZqggE/d9VXUVygePAKHSmRRWJoNMELJ7sIReIcPNJOz9URlhbmsashFd7bN1VRlO+dmePlPQpykQVscCTBz453Eo7GeepIO31Do5QW5bG7sYZgk5+P1FUqvBcABbnIAnN1OMHzxzt4MhLnmbZ2+ocTLC/OpyXgoyXgZ9uGSgryFtbkw4udglxkAegfGuXZYx2EI3GeOdrB1ZEE5SUF3P/BG2hp8nPbhgryF9jM8fIeBbmIR/UNjvDM0Q5CkRjPHetkaDRJ5dJC/uEtKwk2+dm6rpw8hfeioCAX8ZCeqyM83dZOKBLnZyc6GR5NUrOskE9tXUNLk4/m2nJyF8nM8fKejAS5me0F/hLIBb7vnPtXmdiuiMDlgWEOHElNPvyLk12MJBz+siJ+99a1BAM+bl6zghyF96I24yA3s1zgr4DdwDngFTP7iXPuyEy3LbJYdfcPc6A1zpORGL86dZHRpGPViiV8dts6Wpp83LhqucJbfi0TI/KtwEnn3GkAM/sR8DFAQS4yDZ19Q+xvjROOxnjxdDeJpGNtRTH/9I713Bvw07RymSYflgllIshXAmfHfH8OuHV8IzN7GHgYYM2aNRnYrYj3tfcOsi8aJxSJ8fKZbpyD9ZUl/MH2DbQEfDT6Fd5ybZkI8onOMvdbC5x7AngCoLm5+bfWiywWFy5fZV80NfI+9PYlnIO66qV8aWcdwYCfTTVLFd4yLZkI8nPA6jHfrwIuZGC7IgvG2e6B1Mg7GuO1dy4DsNlXylfv3kRLk4+6mtIsVyhelokgfwWoM7N1wHngAeAfZ2C7Ip729sV+QpHUyPvNcz0ANK1cxh/dU09Lk4/1VUuzXKEsFDMOcufcqJl9EdhP6vbDHzjnWmdcmYgHne68Qjh9zbv1Qi8AN64q49GWzQSb/Kyp0MzxknkZuY/cORcCQpnYlojXnGjv+/XI+2i8D4Cb1yznW/c2sLfJx6oVCm+ZXfrLTpFpcs5xLB3eoUiMkx1XMIMPrS3nX9zXyN4mH/6yJdkuUxYRBbnIFDjnaL3Qm5oCLRLndFc/OQZb15Xze7dt4Z4tPmqWFWW7TFmkFOQik3DOETnfw5ORVHi/0z1Abo5x2/oKPnfHOvY0+qgqLcx2mSIKcpGxkknH6+cuE47ECEXinL98lbwc4/aNlXxhxwZ2N/ooLynIdpkiv0FBLoteMuk4/M4lQpEY+6JxYj2D5Ocad9RV8ZW769jdWMPyYoW3zF8KclmUEknHK2e6CUdihKNxOvqGKMjLYfumKr6xt56dm2soW5Kf7TJFpkRBLovGaCLJS291E4rE2N8ap+vKMIV5Oeyor6Yl4GNXQw1LC/UjId6js1YWtJFEkl+eukg4Hd6XBkZYkp/LzoZqgk1+7qqvokThLR6nM1gWnOHRJC+c7CIUiXHgSDs9V0coKchlV0MNwYCf7ZuqWFKgmeNl4VCQy4IwOJLg5ye6CEdiHGxrp29wlNLCPHY31tAS8HNHXSVF+QpvWZgU5OJZgyMJnjvWSSgS4+m2dvqHE5QtyWfvFh/BgJ/bN1ZQmKfwloVPQS6eMjA8yrNHOwlFYzx7tIOB4QQrivO578YbaAn4uX1DBfmaOV4WGQW5zHtXhkZ5uq2dcCTOc8c7GBxJUrm0gE/ctJJgwM+t68rJU3jLIqYgl3mpd3CEp9vaCUXiPH+8k+HRJFWlhfxO82qCAT8fqi0nV5MPiwAKcplHLg8Mc/BIO+FonJ+f6GQk4fAtK+LTt64hGPBzy5oVmjleZAIKcsmq7v5hDh6J82Qkzi9PdjGadKxcvoQHb6sl+AE/H1y1XOEtcg0KcplzXVeG2N8aJxyJ86vTF0kkHWvKi/ncHesINvn5wKoyTT4sMg0KcpkTHb2D7GtNTcTw8lvdJB2sqyzhke3raWnys+WGZQpvkeukIJdZE+u5yr5oauT9ytvdOAcbqkr44o6NtAT8bPaVKrxFMkBBLhl17tIA+9KTD7/6zmUANvtK+cquTQQDPupqSrNcocjCoyCXGXvn4gChaIxwJMYb53oAaPQv44/uqWdvk48NVUuzXKHIwqYgl+vyVlc/oUiMcDRG9HwvAB9YVcY3926mpclHbWVJlisUWTwU5DJlJzvemzn+aLwPgJvWLOfxYAN7m3ysLi/OcoUii5OCXCblnON4+xVCkRihSIwTHVcAaF67gn/+0UZamnzcsHxJlqsUEQW5/AbnHEdivYQjcULRGKc7+zGDrbXl/On9W7hniw9fWVG2yxSRMRTkgnOOyPkeQpE44WiMty8OkGPw4fUVPLRtHXu21FBdqvAWma8U5IuUc47Xz14mnL5V8Nylq+TmGLdvqOCR7RvY01hDxdLCbJcpIlOgIF9EkknHq+9cIhSJsy8a40LPIPm5xkc2VvKlXXXsbqhhRUlBtssUkWlSkC9wiaTj0JluwtHUZZP23iEKcnO4c1MlX9tTz92NNZQtyc92mSIyAwryBWg0keTlt7oJRWPsi7bTdWWIwrwc7qqvIhjws3NzNaVFCm+RhUJBvkCMJJL86tRFwtEY+1vb6e4fZkl+Ljs3V9MS8LGjvpqSQh1ukYVIP9keNjya5IVTqZnjDxxp5/LACCUFuexsqCHY5GN7fRXFBTrEIgudfso9Zmg0wS9OdPFkJMbBI+30DY5SWpjH3Y01tDT5uHNTFUX5mjleZDFRkHvA4EiC5493Eo7EeKqtgytDoywrymNPo497P+Bj28ZKCvMU3iKL1YyC3Mz+HLgPGAZOAZ91zl3ORGGL3cDwKM8d6yQUifHM0Q4GhhMsL87n3oCfloCP2zdUUpCnmeNFZOYj8oPAY865UTP7DvAY8M2Zl7U49Q+N8szRDsLRGM8e7eTqSIKKkgI+ftNKgk1+bl1fTn6uwltEftOMgtw5d2DMty8Cn5xZOYtP7+AIz7R1EIrEeP54J0OjSapKC/nkLatoCfjYWltOnsJbRN5HJq+RPwT8OIPbW7B6BkY42NZOOBLj5ye6GE4k8S0r4lNb1xAM+Lll7QpyNXO8iEzRNYPczJ4CfBOsetw59/fpNo8Do8AP32c7DwMPA6xZs+a6ivWyS/3DHDzSTiga44WTXYwkHDeUFfGZ29YSDPi5afVychTeInIdzDk3sw2YPQg8Auxyzg1M5TnNzc3u0KFDM9qvF3RdGeJAazvhaIxfnrpIIulYXb6EYJOfloCfG1eVafJhEZkyMzvsnGsev3ymd63sJfXh5vaphvhC19E3yP7WdkJvxnjprYskHdRWFPP5O9cTDPjZcsMyhbeIZNRMr5H/B6AQOJgOpxedc4/MuCqPifcMsi8aIxSN88qZbpyD9VUlfGHHRlqa/DT4SxXeIjJrZnrXysZMFeI15y9fJRyJEY7GOfz2JQDqa0r58q46ggE/ddVLFd4iMif0l53TcLZ7gHA0RigS5/Wzqb97avAv4+t7NrG3yc/G6qVZrlBEFiMF+TWc6eonFI0RjsSJnO8BILCyjG/sraelyc+6ypIsVygii52CfAKnOq8QjsR4MhKnLdYLwAdXL+ePg5tpafKzurw4yxWKiLxHQU5q/soTHVcIRVIj72PtfQDcsnYF37q3gZaAn5XLl2S5ShGRiS3aIHfO0RbrS1/zjnGqsx8z+FBtOd++r5G9TX58ZZo5XkTmv0UV5M45Wi/0pkbe0ThvdfWTY3Drugr+ybZ13LOlhupShbeIeMuCD3LnHG+c6yEciRGKxjjbfZXcHOP2DRX8/h3r2bOlhsqlhdkuU0Tkui3IIE8mHa+dvUwoEmNfNM75y1fJyzE+UlfJH+6oY3djDStKCrJdpohIRiyYIE8kHYffvvTr8I73DlKQm8MddZV8dfcmdjfUUFasmeNFZOHxdJCPJpK8fKabcCTOvtY4nX1DFOTlcNemKh4NbGZnQzXLihTeIrKweS7IRxNJXjzdTSgaY380zsX+YYryc9i5uZqWJj87NleztNBzL0tE5Lp5KvG+9/wp/vPzp7g0MEJxQS47N1cTDPi5q76K4gJPvRQRkYzxVPqVFuVx56YqggE/2zdVUZSvmeNFRDwV5J++dS2fvnVttssQEZlXNKuviIjHKchFRDxOQS4i4nEKchERj1OQi4h4nIJcRMTjFOQiIh6nIBcR8TgFuYiIxynIRUQ8TkEuIuJxCnIREY9TkIuIeJyCXETE4xTkIiIepyAXEfE4BbmIiMcpyEVEPE5BLiLicQpyERGPU5CLiHhcRoLczL5uZs7MKjOxPRERmboZB7mZrQZ2A+/MvBwREZmuTIzI/x3wDcBlYFsiIjJNMwpyM7sfOO+ce2MKbR82s0Nmdqizs3MmuxURkTHyrtXAzJ4CfBOsehz4Y2DPVHbknHsCeAKgublZo3cRkQy5ZpA75+6eaLmZBYB1wBtmBrAKeNXMtjrn4hmtUkREJnXNIJ+Mcy4CVL/7vZmdAZqdc10ZqEtERKZI95GLiHjcdY/Ix3PO1WZqWyIiMnUakYuIeJyCXETE4xTkIiIepyAXEfE4BbmIiMcpyEVEPE5BLiLicQpyERGPU5CLiHicglxExOMU5CIiHqcgFxHxOAW5iIjHKchFRDxOQS4i4nEKchERjzPn5n4eZDPrBN6+zqdXAvNxOjnVNT2qa3pU1/TM17pgZrWtdc5VjV+YlSCfCTM75JxrznYd46mu6VFd06O6pme+1gWzU5surYiIeJyCXETE47wY5E9ku4BJqK7pUV3To7qmZ77WBbNQm+eukYuIyG/y4ohcRETGUJCLiHjcvAxyM/tHZtZqZkkzax637jEzO2lmx8zsnkmev87MXjKzE2b2YzMrmIUaf2xmr6e/zpjZ65O0O2NmkXS7Q5muY4L9fdvMzo+pLThJu73pPjxpZo/OQV1/bmZHzexNM/s7M1s+Sbs56a9rvX4zK0wf45Ppc6l2tmoZs8/VZvasmbWlz/8vT9DmLjPrGXN8/2S260rv932Pi6X8+3R/vWlmN89BTfVj+uF1M+s1s6+MazNn/WVmPzCzDjOLjllWbmYH01l00MxWTPLcB9NtTpjZg9PeuXNu3n0BDUA98BzQPGZ5I/AGUAisA04BuRM8/38DD6Qffw/4g1mu998CfzLJujNA5Rz23beBr1+jTW6679YDBek+bZzluvYAeenH3wG+k63+msrrB/4Z8L304weAH8/BsfMDN6cflwLHJ6jrLuCnc3U+TfW4AEEgDBjwYeClOa4vF4iT+oOZrPQXcCdwMxAds+xfA4+mHz860XkPlAOn0/+uSD9eMZ19z8sRuXOuzTl3bIJVHwN+5Jwbcs69BZwEto5tYGYG7AT+b3rRfwM+Plu1pvf3O8D/mq19zIKtwEnn3Gnn3DDwI1J9O2uccwecc6Ppb18EVs3m/q5hKq//Y6TOHUidS7vSx3rWOOdizrlX04/7gDZg5WzuM4M+Bvx3l/IisNzM/HO4/13AKefc9f7F+Iw5534GdI9bPPY8miyL7gEOOue6nXOXgIPA3unse14G+ftYCZwd8/05fvtErwAujwmNidpk0h1Au3PuxCTrHXDAzA6b2cOzWMdYX0y/vf3BJG/lptKPs+khUqO3icxFf03l9f+6Tfpc6iF1bs2J9KWcm4CXJlh9m5m9YWZhM9syRyVd67hk+5x6gMkHU9nor3fVOOdikPpFDVRP0GbGfZd33eXNkJk9BfgmWPW4c+7vJ3vaBMvG3z85lTZTMsUaP8X7j8a3OecumFk1cNDMjqZ/c1+396sL+E/An5F6zX9G6rLPQ+M3McFzZ3wf6lT6y8weB0aBH06ymYz310SlTrBs1s6j6TKzpcDfAF9xzvWOW/0qqcsHV9Kff/w/oG4OyrrWcclmfxUA9wOPTbA6W/01HTPuu6wFuXPu7ut42jlg9ZjvVwEXxrXpIvW2Li89kpqoTUZqNLM84B8At7zPNi6k/+0ws78j9bZ+RsE01b4zs/8C/HSCVVPpx4zXlf4Q56PALpe+ODjBNjLeXxOYyut/t8259HEu47ffNmecmeWTCvEfOuf+dvz6scHunAuZ2X80s0rn3Kz+B1FTOC6zck5NUQvwqnOuffyKbPXXGO1m5nfOxdKXmjomaHOO1LX8d60i9fnglHnt0spPgAfSdxSsI/Wb9eWxDdIB8SzwyfSiB4HJRvgzdTdw1Dl3bqKVZlZiZqXvPib1gV90oraZMu665Ccm2d8rQJ2l7u4pIPW29CezXNde4JvA/c65gUnazFV/TeX1/4TUuQOpc+mZyX75ZEr6GvxfA23Oue9O0sb37rV6M9tK6mf44izXNZXj8hPg99J3r3wY6Hn3ksIcmPRdcTb6a5yx59FkWbQf2GNmK9KXQvekl03dXHyaex2f/n6C1G+pIaAd2D9m3eOk7jg4BrSMWR4Cbkg/Xk8q4E8C/wconKU6/yvwyLhlNwChMXW8kf5qJXWJYbb77n8AEeDN9EnkH19X+vsgqbsiTs1RXSdJXQd8Pf31vfF1zWV/TfT6gX9J6hcNQFH63DmZPpfWz0EffYTUW+o3x/RTEHjk3fMM+GK6b94g9aHx7XNQ14THZVxdBvxVuj8jjLnbbJZrKyYVzGVjlmWlv0j9MokBI+n8+hypz1WeBk6k/y1Pt20Gvj/muQ+lz7WTwGenu2/9ib6IiMd57dKKiIiMoyAXEfE4BbmIiMcpyEVEPE5BLiLicQpyERGPU5CLiHjc/wf9xbH09wQp+QAAAABJRU5ErkJggg==\n",
          "text/plain": "<Figure size 432x288 with 1 Axes>"
         },
         "metadata": {
          "needs_background": "light"
         },
         "output_type": "display_data"
        }
       ]
      }
     },
     "348fc79b12304b22bbce9855bc037102": {
      "model_module": "@jupyter-widgets/base",
      "model_module_version": "1.2.0",
      "model_name": "LayoutModel",
      "state": {
       "height": "350px"
      }
     },
     "34a94e9b11964d9dadabb5eaca837848": {
      "model_module": "@jupyter-widgets/base",
      "model_module_version": "1.2.0",
      "model_name": "LayoutModel",
      "state": {}
     },
     "36a467ae6de846af82866d9e4c5ffe2c": {
      "model_module": "@jupyter-widgets/controls",
      "model_module_version": "1.5.0",
      "model_name": "VBoxModel",
      "state": {
       "_dom_classes": [
        "widget-interact"
       ],
       "children": [
        "IPY_MODEL_0781409849174ad4b03e34da91c84124",
        "IPY_MODEL_3e370de2aa934369b5a15f1b990ec254",
        "IPY_MODEL_1d52f52581ea4cf08e8fc06b7a6a1436"
       ],
       "layout": "IPY_MODEL_12e6806abd0644c3946f864b0deb5744"
      }
     },
     "36cbafaec24040b591f9b08e7533810b": {
      "model_module": "@jupyter-widgets/base",
      "model_module_version": "1.2.0",
      "model_name": "LayoutModel",
      "state": {
       "height": "350px"
      }
     },
     "3815179f67174ea5882719e2901a51b6": {
      "model_module": "@jupyter-widgets/output",
      "model_module_version": "1.0.0",
      "model_name": "OutputModel",
      "state": {
       "layout": "IPY_MODEL_f7a2bf237a88485a95d5dc74634ea209",
       "outputs": [
        {
         "data": {
          "image/png": "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\n",
          "text/plain": "<Figure size 432x288 with 1 Axes>"
         },
         "metadata": {
          "needs_background": "light"
         },
         "output_type": "display_data"
        }
       ]
      }
     },
     "38f272710cc4446c83f8151db055a069": {
      "model_module": "@jupyter-widgets/controls",
      "model_module_version": "1.5.0",
      "model_name": "SliderStyleModel",
      "state": {
       "description_width": ""
      }
     },
     "3c28378f5c0448d49a45a5144bdfe7c4": {
      "model_module": "@jupyter-widgets/base",
      "model_module_version": "1.2.0",
      "model_name": "LayoutModel",
      "state": {}
     },
     "3dac9881f4dc45dd924edca4232ff25f": {
      "model_module": "@jupyter-widgets/output",
      "model_module_version": "1.0.0",
      "model_name": "OutputModel",
      "state": {
       "layout": "IPY_MODEL_1c9b6bb350f748b0bff60db898610f73",
       "outputs": [
        {
         "data": {
          "image/png": "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\n",
          "text/plain": "<Figure size 432x288 with 1 Axes>"
         },
         "metadata": {
          "needs_background": "light"
         },
         "output_type": "display_data"
        }
       ]
      }
     },
     "3e370de2aa934369b5a15f1b990ec254": {
      "model_module": "@jupyter-widgets/controls",
      "model_module_version": "1.5.0",
      "model_name": "FloatSliderModel",
      "state": {
       "description": "c",
       "layout": "IPY_MODEL_9247d6f18ab54608b32abd7fc4c3d98f",
       "max": 3,
       "min": -3,
       "step": 0.1,
       "style": "IPY_MODEL_0fbb9c30a7fd4dff84d42b71d7154ab2",
       "value": 0.9
      }
     },
     "3f2aa2e113aa410f902142b7dc815c00": {
      "model_module": "@jupyter-widgets/controls",
      "model_module_version": "1.5.0",
      "model_name": "FloatSliderModel",
      "state": {
       "description": "m",
       "layout": "IPY_MODEL_c0bb70cff7924d389559aeb9b9c5381e",
       "max": 2,
       "min": -2,
       "step": 0.01,
       "style": "IPY_MODEL_e1f5baba70814a5981a0f7b725b9d339",
       "value": 0.36
      }
     },
     "40c8c0d750f34c12832339f33ff5023e": {
      "model_module": "@jupyter-widgets/base",
      "model_module_version": "1.2.0",
      "model_name": "LayoutModel",
      "state": {}
     },
     "42c115baf3044f519383985ebd3f8213": {
      "model_module": "@jupyter-widgets/output",
      "model_module_version": "1.0.0",
      "model_name": "OutputModel",
      "state": {
       "layout": "IPY_MODEL_972cdf5806f1478d9a04a3d9e4c3efae",
       "outputs": [
        {
         "data": {
          "image/png": "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\n",
          "text/plain": "<Figure size 432x288 with 1 Axes>"
         },
         "metadata": {
          "needs_background": "light"
         },
         "output_type": "display_data"
        }
       ]
      }
     },
     "44085bf4cb9949f9a896756b9c0be621": {
      "model_module": "@jupyter-widgets/controls",
      "model_module_version": "1.5.0",
      "model_name": "FloatSliderModel",
      "state": {
       "description": "c",
       "layout": "IPY_MODEL_c8be7f80cd654a74be4aaf004f75cdc4",
       "max": 3,
       "min": -3,
       "step": 0.1,
       "style": "IPY_MODEL_f53c2de8f1f24c348f85d90063b52458",
       "value": 0.2
      }
     },
     "4637093db04542668c1e64b544ab8971": {
      "model_module": "@jupyter-widgets/controls",
      "model_module_version": "1.5.0",
      "model_name": "SliderStyleModel",
      "state": {
       "description_width": ""
      }
     },
     "4663b5aa6f274dabab6ae3dd8bbbe605": {
      "model_module": "@jupyter-widgets/controls",
      "model_module_version": "1.5.0",
      "model_name": "FloatSliderModel",
      "state": {
       "description": "b",
       "layout": "IPY_MODEL_dc2892e4afa1436aa5a8157472732842",
       "max": 3,
       "min": -3,
       "step": 0.1,
       "style": "IPY_MODEL_13152598f4ad4a5495b0de120a1f89e6",
       "value": 0.7
      }
     },
     "49ed355ecdc04c5ca648a021b56ea232": {
      "model_module": "@jupyter-widgets/controls",
      "model_module_version": "1.5.0",
      "model_name": "VBoxModel",
      "state": {
       "_dom_classes": [
        "widget-interact"
       ],
       "children": [
        "IPY_MODEL_6ebc9f3e92bf467e8827e1fcb64cd64f",
        "IPY_MODEL_5cd1271bffd14c4185c2aeb63fb843ff",
        "IPY_MODEL_7a644413bd74469ab481034473ba451d"
       ],
       "layout": "IPY_MODEL_1b8bd00469bd46f09ae132da1d499b7d"
      }
     },
     "4a745aef6d4d431b95c7c659708f0968": {
      "model_module": "@jupyter-widgets/controls",
      "model_module_version": "1.5.0",
      "model_name": "FloatSliderModel",
      "state": {
       "description": "m",
       "layout": "IPY_MODEL_2bf69ee392d4437aba9b1d89f63ed599",
       "max": 2,
       "min": -2,
       "step": 0.01,
       "style": "IPY_MODEL_1e7517ba2f3f4b05a2c3efc8f850d0ce",
       "value": 0.46
      }
     },
     "4de1b8e084804f11b6caac75c61ec465": {
      "model_module": "@jupyter-widgets/controls",
      "model_module_version": "1.5.0",
      "model_name": "FloatSliderModel",
      "state": {
       "description": "c",
       "layout": "IPY_MODEL_85f02e0b4b004ba7821f2e5ea45fee67",
       "max": 3,
       "min": -3,
       "step": 0.1,
       "style": "IPY_MODEL_06cb95f740e544d0a95726a6c58637b1",
       "value": -1.1
      }
     },
     "4e17938803d04de2b57a80d703a9313c": {
      "model_module": "@jupyter-widgets/base",
      "model_module_version": "1.2.0",
      "model_name": "LayoutModel",
      "state": {}
     },
     "510ee2bd5450477b83b02690f7d40fea": {
      "model_module": "@jupyter-widgets/base",
      "model_module_version": "1.2.0",
      "model_name": "LayoutModel",
      "state": {
       "height": "350px"
      }
     },
     "529d1b66d3074e6c85fa6bb1cdebba71": {
      "model_module": "@jupyter-widgets/base",
      "model_module_version": "1.2.0",
      "model_name": "LayoutModel",
      "state": {}
     },
     "53b1478bf62f4241a46e0518af6d17b1": {
      "model_module": "@jupyter-widgets/controls",
      "model_module_version": "1.5.0",
      "model_name": "SliderStyleModel",
      "state": {
       "description_width": ""
      }
     },
     "56b7c7ca11ad430f97d332df7d54a38b": {
      "model_module": "@jupyter-widgets/base",
      "model_module_version": "1.2.0",
      "model_name": "LayoutModel",
      "state": {
       "height": "350px"
      }
     },
     "5787b7c3ae7a4c1b845925f377e31183": {
      "model_module": "@jupyter-widgets/base",
      "model_module_version": "1.2.0",
      "model_name": "LayoutModel",
      "state": {}
     },
     "5868416d8d4e4539a8c7780603bb301c": {
      "model_module": "@jupyter-widgets/base",
      "model_module_version": "1.2.0",
      "model_name": "LayoutModel",
      "state": {}
     },
     "5cd1271bffd14c4185c2aeb63fb843ff": {
      "model_module": "@jupyter-widgets/controls",
      "model_module_version": "1.5.0",
      "model_name": "FloatSliderModel",
      "state": {
       "description": "b",
       "layout": "IPY_MODEL_8234a34e1a2f408db3dacc67340fae1f",
       "max": 3,
       "min": -3,
       "step": 0.5,
       "style": "IPY_MODEL_6c34ab9fe81848ad814bc6d2e1b0cfcf",
       "value": 1.5
      }
     },
     "5eb4b650bc584f87a3835df15218a55b": {
      "model_module": "@jupyter-widgets/base",
      "model_module_version": "1.2.0",
      "model_name": "LayoutModel",
      "state": {}
     },
     "5fa68085368e451dbf364006522ac035": {
      "model_module": "@jupyter-widgets/controls",
      "model_module_version": "1.5.0",
      "model_name": "FloatSliderModel",
      "state": {
       "description": "c",
       "layout": "IPY_MODEL_a27aeaf923c14d1cb967284ecddfc32d",
       "max": 3,
       "min": -3,
       "step": 0.1,
       "style": "IPY_MODEL_4637093db04542668c1e64b544ab8971",
       "value": -0.9
      }
     },
     "610136d8663a4feeab56ebf3e32e8745": {
      "model_module": "@jupyter-widgets/controls",
      "model_module_version": "1.5.0",
      "model_name": "FloatSliderModel",
      "state": {
       "description": "m",
       "layout": "IPY_MODEL_ccf1d37e82264e3c9009b5cbf7ebb7bc",
       "max": 2,
       "min": -2,
       "step": 0.1,
       "style": "IPY_MODEL_b6e287c52de142c4acd9905b9fa5f618",
       "value": 0.1
      }
     },
     "6396e83bbca744e084b9b5e0ce53e21b": {
      "model_module": "@jupyter-widgets/base",
      "model_module_version": "1.2.0",
      "model_name": "LayoutModel",
      "state": {}
     },
     "654dfb31a5004de085ffa6203b8e1c57": {
      "model_module": "@jupyter-widgets/controls",
      "model_module_version": "1.5.0",
      "model_name": "FloatSliderModel",
      "state": {
       "description": "m",
       "layout": "IPY_MODEL_263cb42a01cb43cb9eebc6d83130ed9a",
       "max": 2,
       "min": -2,
       "step": 0.1,
       "style": "IPY_MODEL_f677ee539a01499b8cb03aa560d83e48",
       "value": 0.8
      }
     },
     "65615faffd3243d880d3d3eb9576c59b": {
      "model_module": "@jupyter-widgets/controls",
      "model_module_version": "1.5.0",
      "model_name": "VBoxModel",
      "state": {
       "_dom_classes": [
        "widget-interact"
       ],
       "children": [
        "IPY_MODEL_610136d8663a4feeab56ebf3e32e8745",
        "IPY_MODEL_6c367a78c20e45e8983dbfde36e31244",
        "IPY_MODEL_dce130a7a4cd41e89fb369f28593e5c7"
       ],
       "layout": "IPY_MODEL_34a94e9b11964d9dadabb5eaca837848"
      }
     },
     "6c34ab9fe81848ad814bc6d2e1b0cfcf": {
      "model_module": "@jupyter-widgets/controls",
      "model_module_version": "1.5.0",
      "model_name": "SliderStyleModel",
      "state": {
       "description_width": ""
      }
     },
     "6c367a78c20e45e8983dbfde36e31244": {
      "model_module": "@jupyter-widgets/controls",
      "model_module_version": "1.5.0",
      "model_name": "FloatSliderModel",
      "state": {
       "description": "c",
       "layout": "IPY_MODEL_89974caa1e404e0b991046bacc38ac80",
       "max": 3,
       "min": -3,
       "step": 0.1,
       "style": "IPY_MODEL_dd6bffe6d66d4f66b679637ed0519528"
      }
     },
     "6cc31e461a7049b2b166a75bccc49be6": {
      "model_module": "@jupyter-widgets/controls",
      "model_module_version": "1.5.0",
      "model_name": "FloatSliderModel",
      "state": {
       "description": "m",
       "layout": "IPY_MODEL_cdab4585e6cb466e9029989d0c81f01e",
       "max": 2,
       "min": -2,
       "step": 0.01,
       "style": "IPY_MODEL_87943bd4548e494590122f9dd6d3064d",
       "value": 0.2
      }
     },
     "6ebc9f3e92bf467e8827e1fcb64cd64f": {
      "model_module": "@jupyter-widgets/controls",
      "model_module_version": "1.5.0",
      "model_name": "FloatSliderModel",
      "state": {
       "description": "m",
       "layout": "IPY_MODEL_3c28378f5c0448d49a45a5144bdfe7c4",
       "max": 2,
       "min": -2,
       "step": 0.1,
       "style": "IPY_MODEL_38f272710cc4446c83f8151db055a069",
       "value": 0.1
      }
     },
     "6f7853308f9a47b9afad5d03c19dd331": {
      "model_module": "@jupyter-widgets/base",
      "model_module_version": "1.2.0",
      "model_name": "LayoutModel",
      "state": {}
     },
     "75dd760b45174b3188dabb1c8bdacb46": {
      "model_module": "@jupyter-widgets/controls",
      "model_module_version": "1.5.0",
      "model_name": "SliderStyleModel",
      "state": {
       "description_width": ""
      }
     },
     "76bbd28314724ace96f90204f2daf4d3": {
      "model_module": "@jupyter-widgets/base",
      "model_module_version": "1.2.0",
      "model_name": "LayoutModel",
      "state": {
       "height": "350px"
      }
     },
     "7a644413bd74469ab481034473ba451d": {
      "model_module": "@jupyter-widgets/output",
      "model_module_version": "1.0.0",
      "model_name": "OutputModel",
      "state": {
       "layout": "IPY_MODEL_a81709281ee4449a8b09e86d8ac1c2d0",
       "outputs": [
        {
         "data": {
          "image/png": "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\n",
          "text/plain": "<Figure size 432x288 with 1 Axes>"
         },
         "metadata": {
          "needs_background": "light"
         },
         "output_type": "display_data"
        }
       ]
      }
     },
     "7c48632624ae475c9eb997306d82153c": {
      "model_module": "@jupyter-widgets/output",
      "model_module_version": "1.0.0",
      "model_name": "OutputModel",
      "state": {
       "layout": "IPY_MODEL_fc59e946c3e14aefaa925ef9de54b813",
       "outputs": [
        {
         "data": {
          "image/png": "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\n",
          "text/plain": "<Figure size 432x288 with 1 Axes>"
         },
         "metadata": {
          "needs_background": "light"
         },
         "output_type": "display_data"
        }
       ]
      }
     },
     "7d5c47510f4743058f267293b7ba82df": {
      "model_module": "@jupyter-widgets/output",
      "model_module_version": "1.0.0",
      "model_name": "OutputModel",
      "state": {
       "layout": "IPY_MODEL_510ee2bd5450477b83b02690f7d40fea",
       "outputs": [
        {
         "data": {
          "image/png": "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\n",
          "text/plain": "<Figure size 432x288 with 1 Axes>"
         },
         "metadata": {
          "needs_background": "light"
         },
         "output_type": "display_data"
        }
       ]
      }
     },
     "7e5017d602d9447fa66bec33e8afd602": {
      "model_module": "@jupyter-widgets/base",
      "model_module_version": "1.2.0",
      "model_name": "LayoutModel",
      "state": {
       "height": "350px"
      }
     },
     "81d61d5ea1734bea9f7145b434bae760": {
      "model_module": "@jupyter-widgets/output",
      "model_module_version": "1.0.0",
      "model_name": "OutputModel",
      "state": {
       "layout": "IPY_MODEL_348fc79b12304b22bbce9855bc037102",
       "outputs": [
        {
         "data": {
          "image/png": "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\n",
          "text/plain": "<Figure size 432x288 with 1 Axes>"
         },
         "metadata": {
          "needs_background": "light"
         },
         "output_type": "display_data"
        }
       ]
      }
     },
     "8234a34e1a2f408db3dacc67340fae1f": {
      "model_module": "@jupyter-widgets/base",
      "model_module_version": "1.2.0",
      "model_name": "LayoutModel",
      "state": {}
     },
     "82446bedc3bc433a8e4a7ad71533d94c": {
      "model_module": "@jupyter-widgets/controls",
      "model_module_version": "1.5.0",
      "model_name": "SliderStyleModel",
      "state": {
       "description_width": ""
      }
     },
     "838fd5e4c7634db6a78de4a9f4209b44": {
      "model_module": "@jupyter-widgets/controls",
      "model_module_version": "1.5.0",
      "model_name": "VBoxModel",
      "state": {
       "_dom_classes": [
        "widget-interact"
       ],
       "children": [
        "IPY_MODEL_3f2aa2e113aa410f902142b7dc815c00",
        "IPY_MODEL_d99b9375635f45b1a8abe9577d378f9a",
        "IPY_MODEL_3815179f67174ea5882719e2901a51b6"
       ],
       "layout": "IPY_MODEL_27a8445eb09a443197881bb63bc1c328"
      }
     },
     "839a2cb01c56428d9a788930ec81ea64": {
      "model_module": "@jupyter-widgets/controls",
      "model_module_version": "1.5.0",
      "model_name": "FloatSliderModel",
      "state": {
       "description": "m",
       "layout": "IPY_MODEL_4e17938803d04de2b57a80d703a9313c",
       "max": 2,
       "min": -2,
       "step": 0.1,
       "style": "IPY_MODEL_82446bedc3bc433a8e4a7ad71533d94c",
       "value": 0.4
      }
     },
     "85f02e0b4b004ba7821f2e5ea45fee67": {
      "model_module": "@jupyter-widgets/base",
      "model_module_version": "1.2.0",
      "model_name": "LayoutModel",
      "state": {}
     },
     "87943bd4548e494590122f9dd6d3064d": {
      "model_module": "@jupyter-widgets/controls",
      "model_module_version": "1.5.0",
      "model_name": "SliderStyleModel",
      "state": {
       "description_width": ""
      }
     },
     "87fe4c3218f048159504b4817c4b554f": {
      "model_module": "@jupyter-widgets/controls",
      "model_module_version": "1.5.0",
      "model_name": "VBoxModel",
      "state": {
       "_dom_classes": [
        "widget-interact"
       ],
       "children": [
        "IPY_MODEL_a6eb6f02e4f543cebd790574855e5cc2",
        "IPY_MODEL_44085bf4cb9949f9a896756b9c0be621",
        "IPY_MODEL_7c48632624ae475c9eb997306d82153c"
       ],
       "layout": "IPY_MODEL_40c8c0d750f34c12832339f33ff5023e"
      }
     },
     "89974caa1e404e0b991046bacc38ac80": {
      "model_module": "@jupyter-widgets/base",
      "model_module_version": "1.2.0",
      "model_name": "LayoutModel",
      "state": {}
     },
     "8f485a7337ed4edaa42132f3bfcbc5fa": {
      "model_module": "@jupyter-widgets/base",
      "model_module_version": "1.2.0",
      "model_name": "LayoutModel",
      "state": {}
     },
     "9247d6f18ab54608b32abd7fc4c3d98f": {
      "model_module": "@jupyter-widgets/base",
      "model_module_version": "1.2.0",
      "model_name": "LayoutModel",
      "state": {}
     },
     "934f7244f04f408baa4e6137966adcef": {
      "model_module": "@jupyter-widgets/controls",
      "model_module_version": "1.5.0",
      "model_name": "SliderStyleModel",
      "state": {
       "description_width": ""
      }
     },
     "95bce1f679e44e8288086377994f0541": {
      "model_module": "@jupyter-widgets/controls",
      "model_module_version": "1.5.0",
      "model_name": "VBoxModel",
      "state": {
       "_dom_classes": [
        "widget-interact"
       ],
       "children": [
        "IPY_MODEL_cc93b5e34a994e8686bb0b013d4acf70",
        "IPY_MODEL_5fa68085368e451dbf364006522ac035",
        "IPY_MODEL_25d29702ccd24db4b168c627befcc141"
       ],
       "layout": "IPY_MODEL_9e41235982ea4fc997ebcdb29708079c"
      }
     },
     "972cdf5806f1478d9a04a3d9e4c3efae": {
      "model_module": "@jupyter-widgets/base",
      "model_module_version": "1.2.0",
      "model_name": "LayoutModel",
      "state": {
       "height": "350px"
      }
     },
     "99e5528353f54ab484187ee338aee2d1": {
      "model_module": "@jupyter-widgets/controls",
      "model_module_version": "1.5.0",
      "model_name": "SliderStyleModel",
      "state": {
       "description_width": ""
      }
     },
     "9de546ba2a634ca8bfbe4d8cc17f1c7b": {
      "model_module": "@jupyter-widgets/controls",
      "model_module_version": "1.5.0",
      "model_name": "SliderStyleModel",
      "state": {
       "description_width": ""
      }
     },
     "9e41235982ea4fc997ebcdb29708079c": {
      "model_module": "@jupyter-widgets/base",
      "model_module_version": "1.2.0",
      "model_name": "LayoutModel",
      "state": {}
     },
     "9f27828a6d504840b094eda74829c9ed": {
      "model_module": "@jupyter-widgets/controls",
      "model_module_version": "1.5.0",
      "model_name": "SliderStyleModel",
      "state": {
       "description_width": ""
      }
     },
     "a27aeaf923c14d1cb967284ecddfc32d": {
      "model_module": "@jupyter-widgets/base",
      "model_module_version": "1.2.0",
      "model_name": "LayoutModel",
      "state": {}
     },
     "a2dff37e2cf14a51ba961ff3d71d0990": {
      "model_module": "@jupyter-widgets/base",
      "model_module_version": "1.2.0",
      "model_name": "LayoutModel",
      "state": {}
     },
     "a6eb6f02e4f543cebd790574855e5cc2": {
      "model_module": "@jupyter-widgets/controls",
      "model_module_version": "1.5.0",
      "model_name": "FloatSliderModel",
      "state": {
       "description": "m",
       "layout": "IPY_MODEL_6396e83bbca744e084b9b5e0ce53e21b",
       "max": 2,
       "min": -2,
       "step": 0.1,
       "style": "IPY_MODEL_9f27828a6d504840b094eda74829c9ed",
       "value": -0.5
      }
     },
     "a81709281ee4449a8b09e86d8ac1c2d0": {
      "model_module": "@jupyter-widgets/base",
      "model_module_version": "1.2.0",
      "model_name": "LayoutModel",
      "state": {
       "height": "350px"
      }
     },
     "ace9929666384aba9297c334fb59c3c2": {
      "model_module": "@jupyter-widgets/controls",
      "model_module_version": "1.5.0",
      "model_name": "FloatSliderModel",
      "state": {
       "description": "m",
       "layout": "IPY_MODEL_8f485a7337ed4edaa42132f3bfcbc5fa",
       "max": 2,
       "min": -2,
       "step": 0.01,
       "style": "IPY_MODEL_bdcb0f5f33804790bf3d7474085052a7"
      }
     },
     "b502a24639bc4d2ca48e72450aad18fc": {
      "model_module": "@jupyter-widgets/base",
      "model_module_version": "1.2.0",
      "model_name": "LayoutModel",
      "state": {}
     },
     "b6e287c52de142c4acd9905b9fa5f618": {
      "model_module": "@jupyter-widgets/controls",
      "model_module_version": "1.5.0",
      "model_name": "SliderStyleModel",
      "state": {
       "description_width": ""
      }
     },
     "bdcb0f5f33804790bf3d7474085052a7": {
      "model_module": "@jupyter-widgets/controls",
      "model_module_version": "1.5.0",
      "model_name": "SliderStyleModel",
      "state": {
       "description_width": ""
      }
     },
     "be21e60ed6d3468e9e7b2584431b37b7": {
      "model_module": "@jupyter-widgets/base",
      "model_module_version": "1.2.0",
      "model_name": "LayoutModel",
      "state": {}
     },
     "c00aac453f73465e8abea637e64af090": {
      "model_module": "@jupyter-widgets/output",
      "model_module_version": "1.0.0",
      "model_name": "OutputModel",
      "state": {
       "layout": "IPY_MODEL_56b7c7ca11ad430f97d332df7d54a38b",
       "outputs": [
        {
         "data": {
          "image/png": "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\n",
          "text/plain": "<Figure size 432x288 with 1 Axes>"
         },
         "metadata": {
          "needs_background": "light"
         },
         "output_type": "display_data"
        }
       ]
      }
     },
     "c0bb70cff7924d389559aeb9b9c5381e": {
      "model_module": "@jupyter-widgets/base",
      "model_module_version": "1.2.0",
      "model_name": "LayoutModel",
      "state": {}
     },
     "c1366df81e574f3c9064074e39e79f6a": {
      "model_module": "@jupyter-widgets/controls",
      "model_module_version": "1.5.0",
      "model_name": "FloatSliderModel",
      "state": {
       "description": "b",
       "layout": "IPY_MODEL_6f7853308f9a47b9afad5d03c19dd331",
       "max": 3,
       "min": -3,
       "step": 0.1,
       "style": "IPY_MODEL_d15d5777a02d4a4aa1df5a140c516f3c"
      }
     },
     "c657515a1d6941c1aa59e674ee65f340": {
      "model_module": "@jupyter-widgets/controls",
      "model_module_version": "1.5.0",
      "model_name": "FloatSliderModel",
      "state": {
       "description": "b",
       "layout": "IPY_MODEL_be21e60ed6d3468e9e7b2584431b37b7",
       "max": 3,
       "min": -3,
       "step": 0.5,
       "style": "IPY_MODEL_53b1478bf62f4241a46e0518af6d17b1",
       "value": -0.5
      }
     },
     "c8be7f80cd654a74be4aaf004f75cdc4": {
      "model_module": "@jupyter-widgets/base",
      "model_module_version": "1.2.0",
      "model_name": "LayoutModel",
      "state": {}
     },
     "c9ddde2f6c4d435b90f88af471e31788": {
      "model_module": "@jupyter-widgets/controls",
      "model_module_version": "1.5.0",
      "model_name": "VBoxModel",
      "state": {
       "_dom_classes": [
        "widget-interact"
       ],
       "layout": "IPY_MODEL_088489dc558b4e44a99ddab58cd039c7"
      }
     },
     "cc93b5e34a994e8686bb0b013d4acf70": {
      "model_module": "@jupyter-widgets/controls",
      "model_module_version": "1.5.0",
      "model_name": "FloatSliderModel",
      "state": {
       "description": "m",
       "layout": "IPY_MODEL_5eb4b650bc584f87a3835df15218a55b",
       "max": 2,
       "min": -2,
       "step": 0.1,
       "style": "IPY_MODEL_9de546ba2a634ca8bfbe4d8cc17f1c7b",
       "value": 0.7
      }
     },
     "ccf1d37e82264e3c9009b5cbf7ebb7bc": {
      "model_module": "@jupyter-widgets/base",
      "model_module_version": "1.2.0",
      "model_name": "LayoutModel",
      "state": {}
     },
     "cdab4585e6cb466e9029989d0c81f01e": {
      "model_module": "@jupyter-widgets/base",
      "model_module_version": "1.2.0",
      "model_name": "LayoutModel",
      "state": {}
     },
     "d15d5777a02d4a4aa1df5a140c516f3c": {
      "model_module": "@jupyter-widgets/controls",
      "model_module_version": "1.5.0",
      "model_name": "SliderStyleModel",
      "state": {
       "description_width": ""
      }
     },
     "d38a7f9219d14370ad13f7f7abc54222": {
      "model_module": "@jupyter-widgets/base",
      "model_module_version": "1.2.0",
      "model_name": "LayoutModel",
      "state": {
       "height": "350px"
      }
     },
     "d99b9375635f45b1a8abe9577d378f9a": {
      "model_module": "@jupyter-widgets/controls",
      "model_module_version": "1.5.0",
      "model_name": "FloatSliderModel",
      "state": {
       "description": "c",
       "layout": "IPY_MODEL_2255a045055c48b9b4ef3c9023aa7338",
       "max": 3,
       "min": -3,
       "step": 0.1,
       "style": "IPY_MODEL_75dd760b45174b3188dabb1c8bdacb46",
       "value": 0.6
      }
     },
     "dc2892e4afa1436aa5a8157472732842": {
      "model_module": "@jupyter-widgets/base",
      "model_module_version": "1.2.0",
      "model_name": "LayoutModel",
      "state": {}
     },
     "dce130a7a4cd41e89fb369f28593e5c7": {
      "model_module": "@jupyter-widgets/output",
      "model_module_version": "1.0.0",
      "model_name": "OutputModel",
      "state": {
       "layout": "IPY_MODEL_d38a7f9219d14370ad13f7f7abc54222",
       "outputs": [
        {
         "data": {
          "image/png": "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\n",
          "text/plain": "<Figure size 432x288 with 1 Axes>"
         },
         "metadata": {
          "needs_background": "light"
         },
         "output_type": "display_data"
        }
       ]
      }
     },
     "dd6bffe6d66d4f66b679637ed0519528": {
      "model_module": "@jupyter-widgets/controls",
      "model_module_version": "1.5.0",
      "model_name": "SliderStyleModel",
      "state": {
       "description_width": ""
      }
     },
     "e1f5baba70814a5981a0f7b725b9d339": {
      "model_module": "@jupyter-widgets/controls",
      "model_module_version": "1.5.0",
      "model_name": "SliderStyleModel",
      "state": {
       "description_width": ""
      }
     },
     "e6878aedf6de4b4ab58673aa5076c1c9": {
      "model_module": "@jupyter-widgets/controls",
      "model_module_version": "1.5.0",
      "model_name": "VBoxModel",
      "state": {
       "_dom_classes": [
        "widget-interact"
       ],
       "children": [
        "IPY_MODEL_4a745aef6d4d431b95c7c659708f0968",
        "IPY_MODEL_f1cf58fd5cf64c119bac5df812a93df4",
        "IPY_MODEL_7d5c47510f4743058f267293b7ba82df"
       ],
       "layout": "IPY_MODEL_2eef562a9b7b4b1f87642acef6662aa6"
      }
     },
     "ed5be06b48ba4cdfbd645fd9fb9fe659": {
      "model_module": "@jupyter-widgets/controls",
      "model_module_version": "1.5.0",
      "model_name": "SliderStyleModel",
      "state": {
       "description_width": ""
      }
     },
     "f016854a1c8947999b1cab45723b6153": {
      "model_module": "@jupyter-widgets/controls",
      "model_module_version": "1.5.0",
      "model_name": "VBoxModel",
      "state": {
       "_dom_classes": [
        "widget-interact"
       ],
       "children": [
        "IPY_MODEL_839a2cb01c56428d9a788930ec81ea64",
        "IPY_MODEL_0f6b8d562abe440fa8a0a5fdcc32cc54",
        "IPY_MODEL_c00aac453f73465e8abea637e64af090"
       ],
       "layout": "IPY_MODEL_5787b7c3ae7a4c1b845925f377e31183"
      }
     },
     "f1cf58fd5cf64c119bac5df812a93df4": {
      "model_module": "@jupyter-widgets/controls",
      "model_module_version": "1.5.0",
      "model_name": "FloatSliderModel",
      "state": {
       "description": "b",
       "layout": "IPY_MODEL_b502a24639bc4d2ca48e72450aad18fc",
       "max": 3,
       "min": -3,
       "step": 0.1,
       "style": "IPY_MODEL_99e5528353f54ab484187ee338aee2d1",
       "value": 0.9
      }
     },
     "f3a36ad9dc354e67ae29d0b553130fb0": {
      "model_module": "@jupyter-widgets/controls",
      "model_module_version": "1.5.0",
      "model_name": "VBoxModel",
      "state": {
       "_dom_classes": [
        "widget-interact"
       ],
       "children": [
        "IPY_MODEL_ace9929666384aba9297c334fb59c3c2",
        "IPY_MODEL_c1366df81e574f3c9064074e39e79f6a",
        "IPY_MODEL_3dac9881f4dc45dd924edca4232ff25f"
       ],
       "layout": "IPY_MODEL_0cc1c28347804172b8f7b7952fe1c398"
      }
     },
     "f53c2de8f1f24c348f85d90063b52458": {
      "model_module": "@jupyter-widgets/controls",
      "model_module_version": "1.5.0",
      "model_name": "SliderStyleModel",
      "state": {
       "description_width": ""
      }
     },
     "f677ee539a01499b8cb03aa560d83e48": {
      "model_module": "@jupyter-widgets/controls",
      "model_module_version": "1.5.0",
      "model_name": "SliderStyleModel",
      "state": {
       "description_width": ""
      }
     },
     "f7a2bf237a88485a95d5dc74634ea209": {
      "model_module": "@jupyter-widgets/base",
      "model_module_version": "1.2.0",
      "model_name": "LayoutModel",
      "state": {
       "height": "350px"
      }
     },
     "facd234c0c3943cba5923be77307381a": {
      "model_module": "@jupyter-widgets/controls",
      "model_module_version": "1.5.0",
      "model_name": "VBoxModel",
      "state": {
       "_dom_classes": [
        "widget-interact"
       ],
       "children": [
        "IPY_MODEL_31c87d68c89f4ccba55585d556206748",
        "IPY_MODEL_c657515a1d6941c1aa59e674ee65f340",
        "IPY_MODEL_32d5de89062f466081321b7dd261751a"
       ],
       "layout": "IPY_MODEL_529d1b66d3074e6c85fa6bb1cdebba71"
      }
     },
     "fc59e946c3e14aefaa925ef9de54b813": {
      "model_module": "@jupyter-widgets/base",
      "model_module_version": "1.2.0",
      "model_name": "LayoutModel",
      "state": {
       "height": "350px"
      }
     },
     "fef18a98580046b8a7c50aef8febea00": {
      "model_module": "@jupyter-widgets/base",
      "model_module_version": "1.2.0",
      "model_name": "LayoutModel",
      "state": {}
     }
    },
    "version_major": 2,
    "version_minor": 0
   }
  }
 },
 "nbformat": 4,
 "nbformat_minor": 4
}
